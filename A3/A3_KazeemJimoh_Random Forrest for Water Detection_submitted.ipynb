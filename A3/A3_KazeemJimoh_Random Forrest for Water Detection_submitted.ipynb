{
 "cells": [
  {
   "attachments": {},
   "cell_type": "markdown",
   "id": "7bbb2dca",
   "metadata": {},
   "source": [
    "### Aim of this assignment is to predict water extent from Sentine 2 imagery using Random forrest. "
   ]
  },
  {
   "cell_type": "code",
   "execution_count": null,
   "id": "eabf0195",
   "metadata": {},
   "outputs": [],
   "source": [
    "import numpy as np\n",
    "import pandas as pd\n",
    "import rasterio as rio\n",
    "import matplotlib.pyplot as plt\n",
    "import os"
   ]
  },
  {
   "cell_type": "code",
   "execution_count": null,
   "id": "19550d94",
   "metadata": {},
   "outputs": [],
   "source": [
    "#Download data from data_RF folder\n",
    "os.chdir(r\"C:\\the\\file\\location\\on\\your\\system\") #changing directories to where data is stored"
   ]
  },
  {
   "cell_type": "code",
   "execution_count": null,
   "id": "8c0ae246",
   "metadata": {},
   "outputs": [],
   "source": [
    "os.getcwd() #confirm curent directory"
   ]
  },
  {
   "cell_type": "code",
   "execution_count": null,
   "id": "8e073e95",
   "metadata": {},
   "outputs": [],
   "source": [
    "# PS: Not to be run! Skip to the next cell!!\n",
    "\n",
    "## Dataset Contents are \n",
    "\n",
    "# M_test: Test Sen2 water mask (validation)\n",
    "# I_test: Test Sen2 image\n",
    "# M_train: Training water mask\n",
    "# I_train: Training Sen2 image"
   ]
  },
  {
   "cell_type": "code",
   "execution_count": null,
   "id": "7f637472",
   "metadata": {},
   "outputs": [],
   "source": [
    "#Preparing M_train for Machine Learning\n",
    "\n",
    "ds = rio.open(r\"./M_train.tif\")\n",
    "arr = ds.read()\n",
    "arr # run to view array\n",
    "# arr.shape\n",
    "\n",
    "#to use machine learning libraries, alter the shape, moving the axis representing the bands to the last position, \n",
    "#current position band, height (rows), width (colomns)\n",
    "\n",
    "arr = np.moveaxis(arr, 0, -1)\n",
    "#this moves the first axis (band) to last axis position\n",
    "#afterwards new axis arrangement is height, width, band. to view run -arr.shape-\n",
    "\n",
    "# arr.shape -- to get count of all values in all dimentions\n",
    "\n",
    "\n",
    "#to create a two dimensional array\n",
    "M_train = np.reshape(arr, (arr.shape[0] * (arr.shape[1]), arr.shape[2])) #multiplies the shape of dimension 1 (height) by shape of dimension 2(width), in terms of dimension 3 (bands)\n",
    "M_train.shape\n",
    "\n",
    "nrow_train = arr[0]\n",
    "ncol_train = arr[1]\n",
    "\n",
    "ds.close"
   ]
  },
  {
   "cell_type": "code",
   "execution_count": null,
   "id": "173afd58",
   "metadata": {},
   "outputs": [],
   "source": [
    "#Preparing I_train for Machine Learning\n",
    "\n",
    "ds_Itrain = rio.open(r\"./I_train.tif\")\n",
    "arr_Itrain = ds_Itrain.read()\n",
    "arr_Itrain # run to view array\n",
    "\n",
    "arr_Itrain.shape #run to get the current shape\n",
    "\n",
    "#ITrain shape (row and colom) currently does not match MTrain, so we delete the excess \n",
    "\n",
    "# Delete the excess (last 2 rows and 3 colomns)\n",
    "Itrain_reshaped = np.delete(np.delete(arr_Itrain, np.s_[-2:], axis=1), np.s_[-3:], axis=2) \n",
    "\n",
    "Itrain_reshaped.shape # the row and colom now match Mtrain\n",
    "\n",
    "#To use machine learning libraries, we must alter the shape, moving the axis representing the bands to the last position, \n",
    "#current position band, height (rows), width (colomns). \n",
    "\n",
    "#PS: We will be using the Itrain_reshaped for the rest of the analysis\n",
    "\n",
    "Itrain_reshaped = np.moveaxis(Itrain_reshaped, 0, -1)\n",
    "#this moves the first axis (band) to last axis position\n",
    "#afterwards new axis arrangement is height, width, band. \n",
    "\n",
    "Itrain_reshaped.shape # run to see new shape\n",
    "\n",
    "#to create a two dimensional array from this existing one\n",
    "I_train = np.reshape(Itrain_reshaped, (Itrain_reshaped.shape[0] * (Itrain_reshaped.shape[1]), Itrain_reshaped.shape[2])) #multiplies the shape of dimension 1 (height) by shape of dimension 2(width), in terms of dimension 3 (bands)\n",
    "I_train.shape\n",
    "\n",
    "nrow_train = arr[0]\n",
    "ncol_train = arr[1]\n",
    "\n",
    "ds.close"
   ]
  },
  {
   "cell_type": "code",
   "execution_count": null,
   "id": "e576630c",
   "metadata": {},
   "outputs": [],
   "source": [
    "#Preparing I_test for Machine Learning\n",
    "\n",
    "ds = rio.open(r\"./I_test.tif\")\n",
    "arr = ds.read()\n",
    "arr # run to view array\n",
    "# arr.shape\n",
    "\n",
    "#to use machine learning libraries, alter the shape, moving the axis representing the bands to the last position, \n",
    "#current position band, height (rows), width (colomns)\n",
    "\n",
    "arr = np.moveaxis(arr, 0, -1)\n",
    "#this moves the first axis (band) to last axis position\n",
    "#afterwards new axis arrangement is height, width, band. to view run -arr.shape-\n",
    "\n",
    "# arr.shape -- to get count of all values in all dimensions\n",
    "\n",
    "\n",
    "#to create a two dimensional array\n",
    "I_test = np.reshape(arr, (arr.shape[0] * (arr.shape[1]), arr.shape[2])) #multiplies the shape of dimension 1 (height) by shape of dimension 2(width), in terms of dimension 3 (bands)\n",
    "print(I_test.shape)\n",
    "\n",
    "nrow_test = arr[0]\n",
    "ncol_test = arr[1]\n",
    "\n",
    "ds.close"
   ]
  },
  {
   "cell_type": "code",
   "execution_count": null,
   "id": "3564de22",
   "metadata": {},
   "outputs": [],
   "source": [
    "#Preparing M_train for Machine Learning\n",
    "\n",
    "ds = rio.open(r\"./M_test.tif\")\n",
    "arr = ds.read()\n",
    "# run -arr- to view array\n",
    "# nan vaues represent boundary pixels with no values, we need to convert them\n",
    "arr = np.where(np.isnan(arr), 0, arr) ##where statement where np value is nan, replace with 0, else nan\n",
    "#now you get an array with 0 instead of nan values\n",
    "\n",
    "#to use machine learning libraries, alter the shape, moving the axis representing the bands to the last position, \n",
    "#current position band, height (rows), width (colomns)\n",
    "\n",
    "arr = np.moveaxis(arr, 0, -1)\n",
    "#this moves the first axis (band) to last axis position\n",
    "#afterwards new axis arrangement is height, width, band. to view run -arr.shape-\n",
    "\n",
    "# arr.shape -- to get count of all values in all dimentions\n",
    "\n",
    "\n",
    "#to create a two dimensional array\n",
    "M_test = np.reshape(arr, (arr.shape[0] * (arr.shape[1]), arr.shape[2])) #multiplies the shape of dimension 1 (height) by shape of dimension 2(width), in terms of dimension 3 (bands)\n",
    "print(M_test.shape)\n",
    "\n",
    "nrow_test = arr.shape[0]\n",
    "ncol_test = arr.shape[1]\n",
    "\n",
    "ds.close"
   ]
  },
  {
   "cell_type": "code",
   "execution_count": null,
   "id": "f85b65a9",
   "metadata": {},
   "outputs": [],
   "source": [
    "# Building the random forest predictor using the sklearn library\n",
    "from sklearn.ensemble import RandomForestClassifier\n",
    "\n",
    "rfc = RandomForestClassifier(n_estimators=100, random_state=42, verbose=3, n_jobs=-1)\n",
    "rfc.fit(I_train, M_train)"
   ]
  },
  {
   "cell_type": "code",
   "execution_count": null,
   "id": "adfba085",
   "metadata": {
    "scrolled": true
   },
   "outputs": [],
   "source": [
    "#Predict a new mask called Y_pred from running the rf we just trained on a new Imagery file (I_Test)\n",
    "Y_pred = rfc.predict(I_test)"
   ]
  },
  {
   "cell_type": "code",
   "execution_count": null,
   "id": "4a5b0d89",
   "metadata": {},
   "outputs": [],
   "source": [
    "#generating confusion matrix to compare the generated Y_pred mask to the manually created M_test mask\n",
    "\n",
    "from sklearn.metrics import classification_report\n",
    "\n",
    "print(classification_report(M_test, Y_pred))\n",
    "\n",
    "\n",
    "#Results show high F value for pridicted. 0.87"
   ]
  },
  {
   "cell_type": "code",
   "execution_count": null,
   "id": "0a05d067",
   "metadata": {},
   "outputs": [],
   "source": [
    "#confirm shape of predicted matches input\n",
    "Y_pred.shape"
   ]
  },
  {
   "cell_type": "code",
   "execution_count": null,
   "id": "873ab7f2",
   "metadata": {},
   "outputs": [],
   "source": [
    "Y_pred_reshaped = Y_pred.reshape(nrow_test, ncol_test)\n",
    "M_test_reshaped = M_test.reshape(nrow_test, ncol_test)\n",
    "I_test_reshaped = I_test.reshape(nrow_test, ncol_test, 4)\n",
    "print(Y_pred_reshaped.shape, I_test_reshaped.shape)\n"
   ]
  },
  {
   "cell_type": "code",
   "execution_count": null,
   "id": "ad872951",
   "metadata": {},
   "outputs": [],
   "source": [
    "#Visulaize \n",
    "\n",
    "fig, axes = plt.subplots(nrows=1, ncols=4, sharex=True, sharey=True, figsize=(15,7))\n",
    "ax1, ax2, ax3, ax4 = axes.flatten()\n",
    "\n",
    "ax1.set_title(\"RGB\", fontweight='bold', fontsize='16')\n",
    "ax1.imshow(I_test_reshaped[:,:,:3])\n",
    "\n",
    "ax2.set_title(\"NRI\", fontweight='bold', fontsize='16')\n",
    "ax2.imshow(I_test_reshaped[:,:,-1])\n",
    "\n",
    "ax3.set_title(\"Ground Truth\", fontweight='bold', fontsize='16')\n",
    "ax3.imshow(M_test_reshaped[:,:])\n",
    "\n",
    "ax4.set_title(\"Predicted\", fontweight='bold', fontsize='16')\n",
    "ax4.imshow(Y_pred_reshaped[:,:])"
   ]
  }
 ],
 "metadata": {
  "kernelspec": {
   "display_name": "Python 3",
   "language": "python",
   "name": "python3"
  },
  "language_info": {
   "codemirror_mode": {
    "name": "ipython",
    "version": 3
   },
   "file_extension": ".py",
   "mimetype": "text/x-python",
   "name": "python",
   "nbconvert_exporter": "python",
   "pygments_lexer": "ipython3",
   "version": "3.9.11"
  }
 },
 "nbformat": 4,
 "nbformat_minor": 5
}
